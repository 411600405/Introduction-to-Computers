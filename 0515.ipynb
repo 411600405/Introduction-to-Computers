{
  "nbformat": 4,
  "nbformat_minor": 0,
  "metadata": {
    "colab": {
      "provenance": [],
      "authorship_tag": "ABX9TyNFn4PlqBtb4ynCHL9kYfiX",
      "include_colab_link": true
    },
    "kernelspec": {
      "name": "python3",
      "display_name": "Python 3"
    },
    "language_info": {
      "name": "python"
    }
  },
  "cells": [
    {
      "cell_type": "markdown",
      "metadata": {
        "id": "view-in-github",
        "colab_type": "text"
      },
      "source": [
        "<a href=\"https://colab.research.google.com/github/411600405/Introduction-to-Computers/blob/main/0515.ipynb\" target=\"_parent\"><img src=\"https://colab.research.google.com/assets/colab-badge.svg\" alt=\"Open In Colab\"/></a>"
      ]
    },
    {
      "cell_type": "code",
      "execution_count": 2,
      "metadata": {
        "colab": {
          "base_uri": "https://localhost:8080/"
        },
        "id": "mdsRsYh7Sg0q",
        "outputId": "933ed8dd-478a-4ca2-8c63-ceba3cb4bc7f"
      },
      "outputs": [
        {
          "output_type": "stream",
          "name": "stdout",
          "text": [
            "今天會下雨嗎?N\n",
            "不用帶傘\n"
          ]
        }
      ],
      "source": [
        "rain = str(input(\"今天會下雨嗎?\"))\n",
        "if (rain == \"y\" or rain == \"Y\"):\n",
        "  print(\"出門記得帶傘!\")\n",
        "elif (rain == \"n\" or rain == \"N\"):\n",
        "  print(\"不用帶傘\")\n",
        "else:\n",
        "  print(\"重新輸入\")"
      ]
    },
    {
      "cell_type": "code",
      "source": [
        "temperature = float(input(\"請輸入體溫:\"))\n",
        "if temperature >= 37.5:\n",
        "  print(\"體溫過高!\")\n",
        "elif (temperature >= 37 and temperature <= 37.4):\n",
        "  print(\"體溫略高!\")\n",
        "elif (temperature >= 34 and temperature <= 36.9):\n",
        "  print(\"體溫正常!\")\n",
        "else:\n",
        "  print(\"體溫異常，請重新量測!\")"
      ],
      "metadata": {
        "colab": {
          "base_uri": "https://localhost:8080/"
        },
        "id": "ihdL7Gy7fqXK",
        "outputId": "0089ffca-4ec2-4c21-9c3a-d82f2afc5ecd"
      },
      "execution_count": 6,
      "outputs": [
        {
          "output_type": "stream",
          "name": "stdout",
          "text": [
            "請輸入體溫:36\n",
            "體溫正常!\n"
          ]
        }
      ]
    },
    {
      "cell_type": "code",
      "source": [
        "score = int(input(\"請輸入成績\"))\n",
        "if score >= 90:\n",
        "  print(\"A\")\n",
        "elif (score >= 80 and score <= 89):\n",
        "  print(\"B\")\n",
        "elif (score >= 70 and score <= 79):\n",
        "  print(\"C\")\n",
        "elif (score >= 60 and score <= 69):\n",
        "  print(\"D\")\n",
        "else:\n",
        "  print(\"E\")"
      ],
      "metadata": {
        "colab": {
          "base_uri": "https://localhost:8080/"
        },
        "id": "0bTtaUmIiEdg",
        "outputId": "68c328ca-1b39-4f8f-8fa7-e2f1d8775829"
      },
      "execution_count": 9,
      "outputs": [
        {
          "output_type": "stream",
          "name": "stdout",
          "text": [
            "請輸入成績100\n",
            "A\n"
          ]
        }
      ]
    },
    {
      "cell_type": "code",
      "source": [
        "season = int(input(\"請輸入月份:\"))\n",
        "if (season == 3 or season == 4 or season == 5):\n",
        "  print(int(season),\"月是春天!\")\n",
        "elif (season == 6 or season == 7 or season == 8):\n",
        "  print(int(season),\"月是夏天!\")\n",
        "elif (season == 9 or season == 10 or season == 11):\n",
        "  print(int(season),\"月是秋天!\")\n",
        "elif (season == 12 or season == 1 or season == 2):\n",
        "  print(int(season),\"月是冬天!\")\n",
        "else:\n",
        "  print(\"月份不在範圍內!\")"
      ],
      "metadata": {
        "colab": {
          "base_uri": "https://localhost:8080/"
        },
        "id": "CPD-5yqUjJX3",
        "outputId": "66a6a2a4-5582-4372-b4d0-cb67dbd7a131"
      },
      "execution_count": 12,
      "outputs": [
        {
          "output_type": "stream",
          "name": "stdout",
          "text": [
            "請輸入月份:4\n",
            "4 月是春天!\n"
          ]
        }
      ]
    },
    {
      "cell_type": "code",
      "source": [
        "income = int(input(\"請輸入今年收入淨額:\"))\n",
        "if income >= 2000000:\n",
        "  print(\"付稅金額:\",float(income * 0.3),\"元\")\n",
        "elif income >= 1000000:\n",
        "  print(\"付稅金額:\",float(income * 0.21),\"元\")\n",
        "elif income >= 600000:\n",
        "  print(\"付稅金額:\",float(income * 0.13),\"元\")\n",
        "elif income >= 300000:\n",
        "  print(\"付稅金額:\",float(income * 0.06),\"元\")\n",
        "else:\n",
        "  print(\"付稅金額:\",float(income * 0),\"元\")"
      ],
      "metadata": {
        "colab": {
          "base_uri": "https://localhost:8080/"
        },
        "id": "_w-Mx5B9k0Rr",
        "outputId": "4d1c1cde-00df-4756-ddc0-2d253e558ddd"
      },
      "execution_count": 17,
      "outputs": [
        {
          "output_type": "stream",
          "name": "stdout",
          "text": [
            "請輸入今年收入淨額:1000000\n",
            "付稅金額: 210000.0 元\n"
          ]
        }
      ]
    }
  ]
}