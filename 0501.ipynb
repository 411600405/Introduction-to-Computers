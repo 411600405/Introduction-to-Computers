{
  "nbformat": 4,
  "nbformat_minor": 0,
  "metadata": {
    "colab": {
      "provenance": [],
      "authorship_tag": "ABX9TyMGndq6qG9KEBSlYRmpCNtY",
      "include_colab_link": true
    },
    "kernelspec": {
      "name": "python3",
      "display_name": "Python 3"
    },
    "language_info": {
      "name": "python"
    }
  },
  "cells": [
    {
      "cell_type": "markdown",
      "metadata": {
        "id": "view-in-github",
        "colab_type": "text"
      },
      "source": [
        "<a href=\"https://colab.research.google.com/github/411600405/Introduction-to-Computers/blob/main/0501.ipynb\" target=\"_parent\"><img src=\"https://colab.research.google.com/assets/colab-badge.svg\" alt=\"Open In Colab\"/></a>"
      ]
    },
    {
      "cell_type": "code",
      "execution_count": null,
      "metadata": {
        "colab": {
          "base_uri": "https://localhost:8080/"
        },
        "id": "UCLUtbdmLKx_",
        "outputId": "1cab6831-770b-48a6-d1e5-85764f29be26"
      },
      "outputs": [
        {
          "output_type": "stream",
          "name": "stdout",
          "text": [
            "0501\n"
          ]
        }
      ],
      "source": [
        "print(\"0501\")"
      ]
    },
    {
      "cell_type": "code",
      "source": [
        "print(\"Hello World\")"
      ],
      "metadata": {
        "colab": {
          "base_uri": "https://localhost:8080/"
        },
        "id": "93ct3WZ3Lrmf",
        "outputId": "a83d6816-9d66-4a07-8a90-75ce11c43a62"
      },
      "execution_count": null,
      "outputs": [
        {
          "output_type": "stream",
          "name": "stdout",
          "text": [
            "Hello World\n"
          ]
        }
      ]
    },
    {
      "cell_type": "code",
      "source": [
        "本金 = int(input(\"請輸入本金存款金額:\"))\n",
        "years = 1.02\n",
        "years **= 6\n",
        "存款 = 本金 * years\n",
        "print(str(\"6年後存款為:\"),float(存款))"
      ],
      "metadata": {
        "colab": {
          "base_uri": "https://localhost:8080/"
        },
        "id": "5WoEOG3xaQSw",
        "outputId": "92aa66cf-83d2-4e57-89b4-c5543ad10d33"
      },
      "execution_count": null,
      "outputs": [
        {
          "output_type": "stream",
          "name": "stdout",
          "text": [
            "請輸入本金存款金額:10000\n",
            "6年後存款為: 11261.62419264\n"
          ]
        }
      ]
    },
    {
      "cell_type": "code",
      "source": [
        "a = 0\n",
        "for i in range(1,6):\n",
        " a += i\n",
        "print('%d' % a)"
      ],
      "metadata": {
        "id": "hUv-b3Ujhbki",
        "colab": {
          "base_uri": "https://localhost:8080/"
        },
        "outputId": "a7aa5b34-34db-4539-8667-44a1298cd05e"
      },
      "execution_count": 7,
      "outputs": [
        {
          "output_type": "stream",
          "name": "stdout",
          "text": [
            "15\n"
          ]
        }
      ]
    },
    {
      "cell_type": "code",
      "source": [
        "F = float(input(\"華氏溫度\"))\n",
        "攝氏溫度 = (F - 32) * 5 / 9\n",
        "print(\"%.1f\" % 攝氏溫度)"
      ],
      "metadata": {
        "colab": {
          "base_uri": "https://localhost:8080/"
        },
        "id": "HuxUMUH5I5DI",
        "outputId": "44e2ec49-2098-4e79-ecdb-73b9bc686c72"
      },
      "execution_count": 6,
      "outputs": [
        {
          "output_type": "stream",
          "name": "stdout",
          "text": [
            "華氏溫度100\n",
            "37.8\n"
          ]
        }
      ]
    }
  ]
}